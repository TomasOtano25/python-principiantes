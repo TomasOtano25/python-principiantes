{
  "nbformat": 4,
  "nbformat_minor": 0,
  "metadata": {
    "colab": {
      "name": "Calculadora IMC.ipynb",
      "provenance": [],
      "collapsed_sections": [],
      "authorship_tag": "ABX9TyMkxU9rPD1Yg48xdCwZNT1I",
      "include_colab_link": true
    },
    "kernelspec": {
      "name": "python3",
      "display_name": "Python 3"
    },
    "language_info": {
      "name": "python"
    }
  },
  "cells": [
    {
      "cell_type": "markdown",
      "metadata": {
        "id": "view-in-github",
        "colab_type": "text"
      },
      "source": [
        "<a href=\"https://colab.research.google.com/github/TomasOtano25/python-principiantes/blob/main/Calculadora_IMC.ipynb\" target=\"_parent\"><img src=\"https://colab.research.google.com/assets/colab-badge.svg\" alt=\"Open In Colab\"/></a>"
      ]
    },
    {
      "cell_type": "markdown",
      "source": [
        "## Calculadora IMC\n",
        "\n",
        "IMC = Peso / (Altura x Altura)\n",
        "\n",
        "*   `<` 19: delgadez\n",
        "*   entre 20 y 25: normal\n",
        "*   entre 26 y 30: sobrepeso\n",
        "*   `>` de 30: obesidad\n",
        "\n",
        "\n",
        "\n",
        "\n",
        "\n",
        "\n",
        "\n"
      ],
      "metadata": {
        "id": "hvG6cCtMXpgi"
      }
    },
    {
      "cell_type": "code",
      "execution_count": null,
      "metadata": {
        "colab": {
          "base_uri": "https://localhost:8080/"
        },
        "id": "olSogT8bXn7A",
        "outputId": "75ba1296-8d80-4a62-bfc2-36d692898e34"
      },
      "outputs": [
        {
          "output_type": "stream",
          "name": "stdout",
          "text": [
            "Ingrese su peso en kg: 76\n",
            "Ingrese su altura en cm: 183\n",
            "Su IMC es de 22.694018931589476\n",
            "Peso normal\n"
          ]
        }
      ],
      "source": [
        "peso = float(input('Ingrese su peso en kg: '))\n",
        "alturaEnCM = int(input('Ingrese su altura en cm: '))\n",
        "\n",
        "alturaEnMetros = alturaEnCM / 100\n",
        "imc = peso / (alturaEnMetros * alturaEnMetros)\n",
        "\n",
        "print('Su IMC es de ' + str(imc))\n",
        "\n",
        "if imc < 20:\n",
        "  print('Estado de delgadez')\n",
        "elif imc >=20 and imc < 26:\n",
        "  print('Peso normal')\n",
        "elif imc >= 26 and imc < 30:\n",
        "  print('Estado de sobrepeso')\n",
        "elif imc >= 30:\n",
        "  print('Estado de obesidad')\n",
        "\n"
      ]
    },
    {
      "cell_type": "code",
      "source": [
        "def calcularIMC(peso, altura):\n",
        "  imc = peso / (altura * altura)\n",
        "  return imc"
      ],
      "metadata": {
        "id": "nTV33MjVZNwQ"
      },
      "execution_count": null,
      "outputs": []
    },
    {
      "cell_type": "code",
      "source": [
        "peso = float(input('Ingrese su peso en kg: '))\n",
        "alturaEnCM = int(input('Ingrese su altura en cm: '))\n",
        "\n",
        "alturaEnMetros = alturaEnCM / 100\n",
        "imc = calcularIMC(peso,alturaEnMetros)\n",
        "\n",
        "print ('Su IMC es de ' + str(imc))\n",
        "\n",
        "if imc < 20:\n",
        "  print('Estado de delgadez')\n",
        "elif imc >=20 and imc < 26:\n",
        "  print('Peso normal')\n",
        "elif imc >= 26 and imc < 30:\n",
        "  print('Estado de sobrepeso')\n",
        "elif imc >= 30:\n",
        "  print('Estado de obesidad')\n"
      ],
      "metadata": {
        "colab": {
          "base_uri": "https://localhost:8080/"
        },
        "id": "Go2CAHkkbroE",
        "outputId": "0143f657-8287-472f-df29-37f12aa92142"
      },
      "execution_count": null,
      "outputs": [
        {
          "output_type": "stream",
          "name": "stdout",
          "text": [
            "Ingrese su peso en kg: 83\n",
            "Ingrese su altura en cm: 183\n",
            "Su IMC es de 24.78425751739377\n",
            "Peso normal\n"
          ]
        }
      ]
    },
    {
      "cell_type": "code",
      "source": [
        "def pedirIMC():\n",
        "  peso = float(input('Ingrese su peso en kg: '))\n",
        "  alturaEnCM = int(input('Ingrese su altura en cm: '))\n",
        "\n",
        "  alturaEnMetros = alturaEnCM / 100\n",
        "  imc = calcularIMC(peso,alturaEnMetros)\n",
        "\n",
        "  print ('Su IMC es de ' + str(imc))\n",
        "\n",
        "  if imc < 20:\n",
        "    print('Estado de delgadez')\n",
        "  elif imc >=20 and imc < 26:\n",
        "    print('Peso normal')\n",
        "  elif imc >= 26 and imc < 30:\n",
        "    print('Estado de sobrepeso')\n",
        "  elif imc >= 30:\n",
        "    print('Estado de obesidad')\n",
        "\n",
        "pedirIMC()"
      ],
      "metadata": {
        "colab": {
          "base_uri": "https://localhost:8080/"
        },
        "id": "1kka4l-zvl_-",
        "outputId": "aef0bb0b-a493-4e68-913a-9c6c09014352"
      },
      "execution_count": null,
      "outputs": [
        {
          "output_type": "stream",
          "name": "stdout",
          "text": [
            "Ingrese su peso en kg: 90\n",
            "Ingrese su altura en cm: 170\n",
            "Su IMC es de 31.14186851211073\n",
            "Estado de obesidad\n"
          ]
        }
      ]
    }
  ]
}