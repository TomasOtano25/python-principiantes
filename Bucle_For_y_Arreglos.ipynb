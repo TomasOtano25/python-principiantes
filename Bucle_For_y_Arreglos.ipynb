{
  "nbformat": 4,
  "nbformat_minor": 0,
  "metadata": {
    "colab": {
      "name": "Bucle For y Arreglos.ipynb",
      "provenance": [],
      "authorship_tag": "ABX9TyNBVSMYlPhZPQUC/yBDKsLl",
      "include_colab_link": true
    },
    "kernelspec": {
      "name": "python3",
      "display_name": "Python 3"
    },
    "language_info": {
      "name": "python"
    }
  },
  "cells": [
    {
      "cell_type": "markdown",
      "metadata": {
        "id": "view-in-github",
        "colab_type": "text"
      },
      "source": [
        "<a href=\"https://colab.research.google.com/github/TomasOtano25/python-principiantes/blob/main/Bucle_For_y_Arreglos.ipynb\" target=\"_parent\"><img src=\"https://colab.research.google.com/assets/colab-badge.svg\" alt=\"Open In Colab\"/></a>"
      ]
    },
    {
      "cell_type": "markdown",
      "source": [
        "# Bucle For y Arreglos"
      ],
      "metadata": {
        "id": "CGT4sSa7UxSa"
      }
    },
    {
      "cell_type": "code",
      "execution_count": 2,
      "metadata": {
        "colab": {
          "base_uri": "https://localhost:8080/"
        },
        "id": "28Q9ocnPTGU3",
        "outputId": "91e4673c-1c56-4122-a8cc-6e7fd47fdc84"
      },
      "outputs": [
        {
          "output_type": "stream",
          "name": "stdout",
          "text": [
            "La fruta es: banana\n",
            "La fruta es: sandia\n",
            "La fruta es: pera\n"
          ]
        }
      ],
      "source": [
        "arreglo = ['banana', 'melon', 'sandia', 'pera']\n",
        "\n",
        "for fruta in arreglo:\n",
        "  print(\"La fruta es: \" + fruta)"
      ]
    },
    {
      "cell_type": "code",
      "source": [
        "arreglo = ['banana', 'melon', 'sandia', 'pera']\n",
        "\n",
        "for fruta in arreglo:\n",
        "  if fruta.endswith('a'):\n",
        "    print(\"La fruta es: \" + fruta)"
      ],
      "metadata": {
        "id": "25jZOtkhT319"
      },
      "execution_count": null,
      "outputs": []
    },
    {
      "cell_type": "code",
      "source": [
        "arreglo = ['banana', 'melon', 'sandia', 'pera']\n",
        "\n",
        "for fruta in arreglo:\n",
        "  if fruta == 'sandia':\n",
        "    break\n",
        "  print(\"La fruta es: \" + fruta)"
      ],
      "metadata": {
        "colab": {
          "base_uri": "https://localhost:8080/"
        },
        "id": "kw0FgfFzT6GD",
        "outputId": "df11cb0f-df01-4e37-f08c-3a624ff341c4"
      },
      "execution_count": 3,
      "outputs": [
        {
          "output_type": "stream",
          "name": "stdout",
          "text": [
            "La fruta es: banana\n",
            "La fruta es: melon\n"
          ]
        }
      ]
    },
    {
      "cell_type": "code",
      "source": [
        "arreglo.reverse()\n",
        "# arreglo.remove(\"melon\")\n",
        "arreglo.append(\"kiwi\")\n",
        "\n",
        "for fruta in arreglo:\n",
        "  print(\"La fruta es: \" + fruta)"
      ],
      "metadata": {
        "colab": {
          "base_uri": "https://localhost:8080/"
        },
        "id": "vnNoviJoUDnt",
        "outputId": "1dc87915-d7c3-4f2c-8307-1fcc79bd0c1f"
      },
      "execution_count": 10,
      "outputs": [
        {
          "output_type": "stream",
          "name": "stdout",
          "text": [
            "La fruta es: pera\n",
            "La fruta es: sandia\n",
            "La fruta es: banana\n",
            "La fruta es: kiwi\n"
          ]
        }
      ]
    },
    {
      "cell_type": "code",
      "source": [
        "texto = \"Hola mundo\"\n",
        "\n",
        "for letra in texto:\n",
        "  print(\"Letra: \" + letra)"
      ],
      "metadata": {
        "colab": {
          "base_uri": "https://localhost:8080/"
        },
        "id": "i_LYndPyUV9Z",
        "outputId": "888f1e9f-f0ef-4779-cfc4-d64b8cb8ae9e"
      },
      "execution_count": 12,
      "outputs": [
        {
          "output_type": "stream",
          "name": "stdout",
          "text": [
            "Letra: H\n",
            "Letra: o\n",
            "Letra: l\n",
            "Letra: a\n",
            "Letra:  \n",
            "Letra: m\n",
            "Letra: u\n",
            "Letra: n\n",
            "Letra: d\n",
            "Letra: o\n"
          ]
        }
      ]
    },
    {
      "cell_type": "code",
      "source": [
        "for numero in range(10):\n",
        "  print(numero)"
      ],
      "metadata": {
        "colab": {
          "base_uri": "https://localhost:8080/"
        },
        "id": "Px7N_KrBUg07",
        "outputId": "d8428427-82db-4abd-8e12-4d6df5724643"
      },
      "execution_count": 13,
      "outputs": [
        {
          "output_type": "stream",
          "name": "stdout",
          "text": [
            "0\n",
            "1\n",
            "2\n",
            "3\n",
            "4\n",
            "5\n",
            "6\n",
            "7\n",
            "8\n",
            "9\n"
          ]
        }
      ]
    },
    {
      "cell_type": "code",
      "source": [
        "for numero in range(10):\n",
        "  if (numero > 5):\n",
        "    print(numero)"
      ],
      "metadata": {
        "colab": {
          "base_uri": "https://localhost:8080/"
        },
        "id": "xfyALLrgUnrZ",
        "outputId": "096a0aa5-2e1c-49a0-83b2-f3f27dc7f60a"
      },
      "execution_count": 14,
      "outputs": [
        {
          "output_type": "stream",
          "name": "stdout",
          "text": [
            "6\n",
            "7\n",
            "8\n",
            "9\n"
          ]
        }
      ]
    },
    {
      "cell_type": "code",
      "source": [
        "for numero in range(6,10):\n",
        "  print(numero)"
      ],
      "metadata": {
        "colab": {
          "base_uri": "https://localhost:8080/"
        },
        "id": "v_yLUM2-UtYT",
        "outputId": "758a1721-532a-4d1b-a481-358da4d88947"
      },
      "execution_count": 15,
      "outputs": [
        {
          "output_type": "stream",
          "name": "stdout",
          "text": [
            "6\n",
            "7\n",
            "8\n",
            "9\n"
          ]
        }
      ]
    }
  ]
}