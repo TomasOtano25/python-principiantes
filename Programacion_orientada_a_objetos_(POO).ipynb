{
  "nbformat": 4,
  "nbformat_minor": 0,
  "metadata": {
    "colab": {
      "name": "Programacion orientada a objetos (POO).ipynb",
      "provenance": [],
      "collapsed_sections": [],
      "authorship_tag": "ABX9TyPIfdK1ekb//FaqPpyOUzlh",
      "include_colab_link": true
    },
    "kernelspec": {
      "name": "python3",
      "display_name": "Python 3"
    },
    "language_info": {
      "name": "python"
    }
  },
  "cells": [
    {
      "cell_type": "markdown",
      "metadata": {
        "id": "view-in-github",
        "colab_type": "text"
      },
      "source": [
        "<a href=\"https://colab.research.google.com/github/TomasOtano25/python-principiantes/blob/main/Programacion_orientada_a_objetos_(POO).ipynb\" target=\"_parent\"><img src=\"https://colab.research.google.com/assets/colab-badge.svg\" alt=\"Open In Colab\"/></a>"
      ]
    },
    {
      "cell_type": "markdown",
      "source": [
        "# Programacion orientada a objetos (POO)"
      ],
      "metadata": {
        "id": "cAk63VhPAC9H"
      }
    },
    {
      "cell_type": "code",
      "execution_count": 7,
      "metadata": {
        "colab": {
          "base_uri": "https://localhost:8080/"
        },
        "id": "ob5QT6c69j1f",
        "outputId": "bcbabc34-205d-4e6a-a1f7-140eae79b0b1"
      },
      "outputs": [
        {
          "output_type": "stream",
          "name": "stdout",
          "text": [
            "120\n",
            "Ancho: 10, Alto: 12\n"
          ]
        }
      ],
      "source": [
        "class Cuadrado:\n",
        "\n",
        "  def __init__(self, ancho, alto):\n",
        "    self.ancho = ancho\n",
        "    self.alto = alto\n",
        "  \n",
        "  def calcularArea(self):\n",
        "    area = self.ancho * self.alto\n",
        "    return area\n",
        "\n",
        "  def __str__(self):\n",
        "    return f'Ancho: {self.ancho}, Alto: {self.alto}'\n",
        "\n",
        "figura = Cuadrado(10, 12)\n",
        "\n",
        "print(figura.calcularArea())\n",
        "\n",
        "print(figura)"
      ]
    },
    {
      "cell_type": "code",
      "source": [
        "class Persona:\n",
        "  def __init__(self, nombre, apellido, dni, telefono):\n",
        "    self.nombre = nombre\n",
        "    self.apellido = apellido\n",
        "    self.dni = dni\n",
        "    self.telefono = telefono\n",
        "\n",
        "  def __str__(self):\n",
        "    return f'Nombre: {self.nombre}, Apellido: {self.apellido}'\n",
        "\n",
        "\n",
        "class Empleado(Persona):\n",
        "\n",
        "  def __init__(self, nombre, apellido, dni, telefono, salario):\n",
        "    super().__init__(nombre, apellido, dni, telefono)\n",
        "    self.salario = salario\n",
        "\n",
        "  def __str__(self):\n",
        "    return  super().__str__() + f' ,Salario: {self.salario}'\n",
        "\n",
        "\n",
        "class Cliente(Persona):\n",
        "  def __init__(self, nombre, apellido, dni, telefono, categoria):\n",
        "     super().__init__(nombre, apellido, dni, telefono)\n",
        "     self.categoria = categoria\n",
        "  \n",
        "  def __str__(self):\n",
        "    return super().__str__() + f', Categoria: {self.categoria}'\n",
        "\n",
        "\n",
        "emp = Empleado('Tomas', 'Garcia', '123123', '8496388432', 1000)\n",
        "cli = Cliente('Tomas', 'Garcia', '123123', '8496388432', 'vip')\n",
        "\n",
        "print(emp)\n",
        "print(cli)"
      ],
      "metadata": {
        "colab": {
          "base_uri": "https://localhost:8080/"
        },
        "id": "DPyV6ISl-8TS",
        "outputId": "c35f9f8b-8dea-40a2-bf1d-1d5eccb17e7e"
      },
      "execution_count": 20,
      "outputs": [
        {
          "output_type": "stream",
          "name": "stdout",
          "text": [
            "Nombre: Tomas, Apellido: Garcia ,Salario: 1000\n",
            "Nombre: Tomas, Apellido: Garcia, Categoria: vip\n"
          ]
        }
      ]
    },
    {
      "cell_type": "code",
      "source": [
        "class Persona:\n",
        "  def __init__(self, nombre, apellido, dni, telefono):\n",
        "    self.nombre = nombre\n",
        "    self.apellido = apellido\n",
        "    self.dni = dni\n",
        "    self.telefono = telefono\n",
        "\n",
        "  def __str__(self):\n",
        "    return f'Nombre: {self.nombre}, Apellido: {self.apellido}'\n",
        "\n",
        "\n",
        "class Empleado(Persona):\n",
        "\n",
        "  def __init__(self, nombre, apellido, dni, telefono, salario):\n",
        "    super().__init__(nombre, apellido, dni, telefono)\n",
        "    self.salario = salario\n",
        "\n",
        "  def __str__(self):\n",
        "    return  super().__str__() + f' , Salario: {self.salario}'\n",
        "\n",
        "\n",
        "class Cliente(Persona):\n",
        "  def __init__(self, nombre, apellido, dni, telefono, categoria):\n",
        "     super().__init__(nombre, apellido, dni, telefono)\n",
        "     self.categoria = categoria\n",
        "  \n",
        "  def __str__(self):\n",
        "    return super().__str__() + f', Categoria: {self.categoria}'\n",
        "\n",
        "\n",
        "personas = []\n",
        "\n",
        "def cargar():\n",
        "  respuesta = input('Va a agregar un empleado?')\n",
        "  nombre = input('Ingrese el nombre: ')\n",
        "  apellido = input('Ingrese el apellido: ')\n",
        "  dni = input('Ingrese el dni: ')\n",
        "  telefono = input('Ingrese el telefono: ')\n",
        "\n",
        "  if respuesta == 'si':\n",
        "    salario = input('Ingrese el salario: ')\n",
        "    empleado = Empleado(nombre, apellido, dni, telefono, int(salario))\n",
        "    personas.append(empleado)\n",
        "    print(empleado)\n",
        "  else:\n",
        "    tipo = input('Ingrese el tipo de cliente: ')\n",
        "    cliente = Cliente(nombre, apellido, dni, telefono, tipo)\n",
        "    personas.append(cliente)\n",
        "    print(cliente)\n",
        "\n",
        "\n",
        "cargar()\n",
        "\n",
        "for i, persona in enumerate(personas):\n",
        "  print(f'{i + 1} - {persona}')\n",
        "\n"
      ],
      "metadata": {
        "colab": {
          "base_uri": "https://localhost:8080/"
        },
        "id": "4pO4P2QXCbtL",
        "outputId": "023d55a1-a149-44c3-900d-709c8385d4de"
      },
      "execution_count": 3,
      "outputs": [
        {
          "output_type": "stream",
          "name": "stdout",
          "text": [
            "Va a agregar un empleado?si\n",
            "Ingrese el nombre: Tomas\n",
            "Ingrese el apellido: Garcia\n",
            "Ingrese el dni: 1234\n",
            "Ingrese el telefono: 1234\n",
            "Ingrese el salario: 1234\n",
            "Nombre: Tomas, Apellido: Garcia ,Salario: 1234\n",
            "0 - Nombre: Tomas, Apellido: Garcia ,Salario: 1234\n"
          ]
        }
      ]
    }
  ]
}