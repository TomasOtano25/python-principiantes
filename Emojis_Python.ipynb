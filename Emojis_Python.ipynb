{
  "nbformat": 4,
  "nbformat_minor": 0,
  "metadata": {
    "colab": {
      "name": "Emojis Python.ipynb",
      "provenance": [],
      "authorship_tag": "ABX9TyOvhouHzuMtP4vjUuICpk3l",
      "include_colab_link": true
    },
    "kernelspec": {
      "name": "python3",
      "display_name": "Python 3"
    },
    "language_info": {
      "name": "python"
    }
  },
  "cells": [
    {
      "cell_type": "markdown",
      "metadata": {
        "id": "view-in-github",
        "colab_type": "text"
      },
      "source": [
        "<a href=\"https://colab.research.google.com/github/TomasOtano25/python-principiantes/blob/main/Emojis_Python.ipynb\" target=\"_parent\"><img src=\"https://colab.research.google.com/assets/colab-badge.svg\" alt=\"Open In Colab\"/></a>"
      ]
    },
    {
      "cell_type": "markdown",
      "source": [
        "# Ejemplo de remplazo de emojis"
      ],
      "metadata": {
        "id": "8kxtYS5dKeF-"
      }
    },
    {
      "cell_type": "code",
      "execution_count": 5,
      "metadata": {
        "colab": {
          "base_uri": "https://localhost:8080/"
        },
        "id": "MjO3RajVKRo-",
        "outputId": "ab5eb22d-ffaf-4989-a34a-57781527190a"
      },
      "outputs": [
        {
          "output_type": "stream",
          "name": "stdout",
          "text": [
            ">:*\n",
            "😮\n"
          ]
        }
      ],
      "source": [
        "texto = input('>')\n",
        "texto = texto.replace(':)', '🙂')\n",
        "texto = texto.replace(':(', '🙁')\n",
        "texto = texto.replace(':P', '😛')\n",
        "texto = texto.replace(':p', '😛')\n",
        "texto = texto.replace(':*', '😮')\n",
        "texto = texto.replace(':S', '🥴')\n",
        "texto = texto.replace(':s', '🥴')\n",
        "\n",
        "print(texto)"
      ]
    },
    {
      "cell_type": "code",
      "source": [
        "seguirChateando = True\n",
        "\n",
        "while seguirChateando:\n",
        "  texto = input('>')\n",
        "  if texto == 'salir':\n",
        "    seguirChateando = False\n",
        "  texto = texto.replace(':)', '🙂')\n",
        "  texto = texto.replace(':(', '🙁')\n",
        "  texto = texto.replace(':P', '😛')\n",
        "  texto = texto.replace(':p', '😛')\n",
        "  texto = texto.replace(':*', '😮')\n",
        "  texto = texto.replace(':S', '🥴')\n",
        "  texto = texto.replace(':s', '🥴')\n",
        "\n",
        "  print(texto)"
      ],
      "metadata": {
        "id": "9zC2lcDhSSZQ"
      },
      "execution_count": null,
      "outputs": []
    }
  ]
}