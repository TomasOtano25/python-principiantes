{
  "nbformat": 4,
  "nbformat_minor": 0,
  "metadata": {
    "colab": {
      "name": "Diccionario.ipynb",
      "provenance": [],
      "authorship_tag": "ABX9TyO6zaOD5jmYHyrGIzkZ0vK2",
      "include_colab_link": true
    },
    "kernelspec": {
      "name": "python3",
      "display_name": "Python 3"
    },
    "language_info": {
      "name": "python"
    }
  },
  "cells": [
    {
      "cell_type": "markdown",
      "metadata": {
        "id": "view-in-github",
        "colab_type": "text"
      },
      "source": [
        "<a href=\"https://colab.research.google.com/github/TomasOtano25/python-principiantes/blob/main/Diccionario.ipynb\" target=\"_parent\"><img src=\"https://colab.research.google.com/assets/colab-badge.svg\" alt=\"Open In Colab\"/></a>"
      ]
    },
    {
      "cell_type": "markdown",
      "source": [
        "# Diccionario"
      ],
      "metadata": {
        "id": "95aOygqjVDGH"
      }
    },
    {
      "cell_type": "code",
      "execution_count": 1,
      "metadata": {
        "id": "8LCR_0gfVCoJ"
      },
      "outputs": [],
      "source": [
        "diccionario = {\n",
        "    \"Programar\": \"Programar es trasformar el cafe en codigo\",\n",
        "    \"POO\": \"Pogramacion orientada a objetos\",\n",
        "    \"MVC\": \"Modelo Vista Controlador\"\n",
        "}"
      ]
    },
    {
      "cell_type": "code",
      "source": [
        "print(diccionario[\"POO\"])"
      ],
      "metadata": {
        "colab": {
          "base_uri": "https://localhost:8080/"
        },
        "id": "xuawjoWLVXeX",
        "outputId": "c3f18333-94d1-432c-c0d7-7f32f7cc0316"
      },
      "execution_count": 2,
      "outputs": [
        {
          "output_type": "stream",
          "name": "stdout",
          "text": [
            "Pogramacion orientada a objetos\n"
          ]
        }
      ]
    },
    {
      "cell_type": "markdown",
      "source": [
        "## Ejemplo"
      ],
      "metadata": {
        "id": "1XUUEYMPVpS9"
      }
    },
    {
      "cell_type": "code",
      "source": [
        "numeros = {\n",
        "    \"0\": \"cero\",\n",
        "    \"1\": \"uno\",\n",
        "    \"2\": \"dos\",\n",
        "    \"3\": \"tres\",\n",
        "    \"4\": \"cuatro\",\n",
        "    \"5\": \"cinco\",\n",
        "    \"6\": \"seis\",\n",
        "    \"7\": \"siete\",\n",
        "    \"8\": \"ocho\",\n",
        "    \"9\": \"nueve\",\n",
        "}\n",
        "\n",
        "texto = input('Ingrese un numero: ')\n",
        "\n",
        "textoFinal = ''\n",
        "for letra in texto:\n",
        "  textoFinal += numeros[letra]  + ' '\n",
        "\n",
        "print(textoFinal)"
      ],
      "metadata": {
        "colab": {
          "base_uri": "https://localhost:8080/"
        },
        "id": "3VzYF0WXVrkQ",
        "outputId": "3670d77a-ff12-46ff-a62f-9320161e1922"
      },
      "execution_count": 7,
      "outputs": [
        {
          "output_type": "stream",
          "name": "stdout",
          "text": [
            "Ingrese un numero: 789\n",
            "siete ocho nueve \n"
          ]
        }
      ]
    }
  ]
}