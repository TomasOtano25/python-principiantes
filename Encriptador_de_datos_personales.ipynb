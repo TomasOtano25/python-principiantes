{
  "nbformat": 4,
  "nbformat_minor": 0,
  "metadata": {
    "colab": {
      "name": "Encriptador de datos personales.ipynb",
      "provenance": [],
      "collapsed_sections": [],
      "authorship_tag": "ABX9TyOa6ggrWmcKsLbj0CsDJkz5",
      "include_colab_link": true
    },
    "kernelspec": {
      "name": "python3",
      "display_name": "Python 3"
    },
    "language_info": {
      "name": "python"
    }
  },
  "cells": [
    {
      "cell_type": "markdown",
      "metadata": {
        "id": "view-in-github",
        "colab_type": "text"
      },
      "source": [
        "<a href=\"https://colab.research.google.com/github/TomasOtano25/python-principiantes/blob/main/Encriptador_de_datos_personales.ipynb\" target=\"_parent\"><img src=\"https://colab.research.google.com/assets/colab-badge.svg\" alt=\"Open In Colab\"/></a>"
      ]
    },
    {
      "cell_type": "markdown",
      "source": [
        "# Encriptador de datos personales"
      ],
      "metadata": {
        "id": "UAssWxFHW3de"
      }
    },
    {
      "cell_type": "code",
      "execution_count": 32,
      "metadata": {
        "colab": {
          "base_uri": "https://localhost:8080/",
          "height": 217
        },
        "id": "04sgl52lW2nY",
        "outputId": "2ec766f8-29ac-43fa-da5c-5a640fe86457"
      },
      "outputs": [
        {
          "output_type": "error",
          "ename": "FileNotFoundError",
          "evalue": "ignored",
          "traceback": [
            "\u001b[0;31m---------------------------------------------------------------------------\u001b[0m",
            "\u001b[0;31mFileNotFoundError\u001b[0m                         Traceback (most recent call last)",
            "\u001b[0;32m<ipython-input-32-87610987748e>\u001b[0m in \u001b[0;36m<module>\u001b[0;34m()\u001b[0m\n\u001b[1;32m      3\u001b[0m \u001b[0;31m# archivo.close()\u001b[0m\u001b[0;34m\u001b[0m\u001b[0;34m\u001b[0m\u001b[0;34m\u001b[0m\u001b[0m\n\u001b[1;32m      4\u001b[0m \u001b[0;34m\u001b[0m\u001b[0m\n\u001b[0;32m----> 5\u001b[0;31m \u001b[0mlectura\u001b[0m \u001b[0;34m=\u001b[0m \u001b[0mopen\u001b[0m\u001b[0;34m(\u001b[0m\u001b[0;34m\"texto.txt\"\u001b[0m\u001b[0;34m,\u001b[0m \u001b[0;34m\"r\"\u001b[0m\u001b[0;34m)\u001b[0m\u001b[0;34m\u001b[0m\u001b[0;34m\u001b[0m\u001b[0m\n\u001b[0m\u001b[1;32m      6\u001b[0m \u001b[0mprint\u001b[0m\u001b[0;34m(\u001b[0m\u001b[0mlectura\u001b[0m\u001b[0;34m.\u001b[0m\u001b[0mread\u001b[0m\u001b[0;34m(\u001b[0m\u001b[0;34m)\u001b[0m\u001b[0;34m)\u001b[0m\u001b[0;34m\u001b[0m\u001b[0;34m\u001b[0m\u001b[0m\n",
            "\u001b[0;31mFileNotFoundError\u001b[0m: [Errno 2] No such file or directory: 'texto.txt'"
          ]
        }
      ],
      "source": [
        "# archivo = open(\"texto.txt\", \"a\")\n",
        "# archivo.write(\"Prueba de guardado\")\n",
        "# archivo.close()\n",
        "\n",
        "lectura = open(\"texto.txt\", \"r\")\n",
        "print(lectura.read())"
      ]
    },
    {
      "cell_type": "code",
      "source": [
        "# archivo = open(\"texto.txt\", \"a\")\n",
        "# archivo.write(\"Prueba de guardado\")\n",
        "# archivo.close()\n",
        "\n",
        "lectura = open(\"texto.txt\", \"r\")\n",
        "print(lectura.read())\n",
        "\n",
        "\n",
        "def encriptar(texto):\n",
        "  textoFinal = ''\n",
        "  for letra in texto:\n",
        "      textoFinal += letra + 'x'\n",
        "  print('Texto encriptado: ' +textoFinal)\n",
        "\n",
        "\n",
        "def desencriptar(texto):\n",
        "  textoFinal = ''\n",
        "  contador = 0\n",
        "  for letra in texto:\n",
        "    if contador % 2 == 0:\n",
        "      textoFinal += letra\n",
        "    contador += 1\n",
        "  print('Texto desencriptado: ' + textoFinal)\n",
        "\n",
        "\n",
        "encriptar('Ejemplo')\n",
        "desencriptar('Exjxexmxpxlxox')"
      ],
      "metadata": {
        "colab": {
          "base_uri": "https://localhost:8080/"
        },
        "id": "Vc4v1O9CXyvy",
        "outputId": "8a825abd-652d-48bb-ab99-7fb0b1cf5644"
      },
      "execution_count": 33,
      "outputs": [
        {
          "output_type": "stream",
          "name": "stdout",
          "text": [
            "Prueba de guardado\n",
            "Texto encriptado: Exjxexmxpxlxox\n",
            "Texto desencriptado: Ejemplo\n"
          ]
        }
      ]
    },
    {
      "cell_type": "code",
      "source": [
        "def encriptar(texto):\n",
        "  textoFinal = ''\n",
        "  for letra in texto:\n",
        "      textoFinal += letra + 'x'\n",
        "  return textoFinal\n",
        "\n",
        "\n",
        "def desencriptar(texto):\n",
        "  textoFinal = ''\n",
        "  contador = 0\n",
        "  for letra in texto:\n",
        "    if contador % 2 == 0:\n",
        "      textoFinal += letra\n",
        "    contador += 1\n",
        "  return textoFinal\n",
        "\n",
        "def encriptarArchivo():\n",
        "  archivo = open(\"texto.txt\", \"r\")\n",
        "  texto = archivo.read()\n",
        "  textoEncriptado = encriptar(texto)\n",
        "  \n",
        "\n",
        "  archivo = open(\"texto.txt\", \"w\")\n",
        "  archivo.write(textoEncriptado)\n",
        "  archivo.close()\n",
        "\n",
        "def desencriptarArchivo():\n",
        "  archivo = open(\"texto.txt\", \"r\")\n",
        "  texto = archivo.read()\n",
        "  textoDesencriptado = desencriptar(texto)\n",
        "  \n",
        "  archivo = open(\"texto.txt\", \"w\")\n",
        "  archivo.write(textoDesencriptado)\n",
        "  archivo.close()\n",
        "  print(textoDesencriptado)\n",
        "\n",
        "encriptarArchivo()\n",
        "# desencriptarArchivo()"
      ],
      "metadata": {
        "id": "Ed3wXb-o08W4"
      },
      "execution_count": 38,
      "outputs": []
    },
    {
      "cell_type": "code",
      "source": [
        "\n",
        "encriptarArchivo()\n",
        "encriptarArchivo()\n",
        "encriptarArchivo()\n",
        "# desencriptarArchivo()\n",
        "# desencriptarArchivo()\n",
        "# desencriptarArchivo()"
      ],
      "metadata": {
        "id": "-tW51HEb3JWp"
      },
      "execution_count": null,
      "outputs": []
    },
    {
      "cell_type": "code",
      "source": [
        "def encriptar(texto):\n",
        "  textoFinal = ''\n",
        "  for letra in texto:\n",
        "      textoFinal += letra + 'x'\n",
        "  return textoFinal\n",
        "\n",
        "\n",
        "def desencriptar(texto):\n",
        "  textoFinal = ''\n",
        "  contador = 0\n",
        "  for letra in texto:\n",
        "    if contador % 2 == 0:\n",
        "      textoFinal += letra\n",
        "    contador += 1\n",
        "  return textoFinal\n",
        "\n",
        "def encriptarArchivo(rutaArchivo):\n",
        "  archivo = open(rutaArchivo, \"r\")\n",
        "  texto = archivo.read()\n",
        "  textoEncriptado = encriptar(texto)\n",
        "  \n",
        "\n",
        "  archivo = open(rutaArchivo, \"w\")\n",
        "  archivo.write(textoEncriptado)\n",
        "  archivo.close()\n",
        "  print('El archivo se encripto correctamente')\n",
        "\n",
        "def desencriptarArchivo(rutaArchivo):\n",
        "  archivo = open(rutaArchivo, \"r\")\n",
        "  texto = archivo.read()\n",
        "  textoDesencriptado = desencriptar(texto)\n",
        "  \n",
        "  archivo = open(rutaArchivo, \"w\")\n",
        "  archivo.write(textoDesencriptado)\n",
        "  archivo.close()\n",
        "  print('El archivo se desencripto correctamente')\n",
        "\n",
        "\n",
        "respuestaEoD = input('Presione \"E\" para encriptar o \"D\" para desencriptar:')\n",
        "rutaArchivo = input('Ingrese la ruta del archivo: ')\n",
        "\n",
        "if respuestaEoD == 'E':\n",
        "  encriptarArchivo(rutaArchivo)\n",
        "else:\n",
        "  desencriptarArchivo(rutaArchivo)\n"
      ],
      "metadata": {
        "colab": {
          "base_uri": "https://localhost:8080/"
        },
        "id": "i1-I2gxM3N18",
        "outputId": "21387f9d-a32f-4542-954d-94a7ffef7d46"
      },
      "execution_count": 42,
      "outputs": [
        {
          "output_type": "stream",
          "name": "stdout",
          "text": [
            "Presione \"E\" para encriptar o \"D\" para desencriptarD\n",
            "Ingrese la ruta del archivo/content/texto.txt\n",
            "El archivo se desencripto correctamente\n"
          ]
        }
      ]
    },
    {
      "cell_type": "markdown",
      "source": [
        "## Encriptacion compleja (Final)"
      ],
      "metadata": {
        "id": "pDsDeZpP4dG2"
      }
    },
    {
      "cell_type": "code",
      "source": [
        "def encriptar(texto):\n",
        "  textoFinal = ''\n",
        "  for letra in texto:\n",
        "      ascii = ord(letra)\n",
        "      ascii += 1\n",
        "      textoFinal += chr(ascii)\n",
        "  return textoFinal\n",
        "\n",
        "\n",
        "def desencriptar(texto):\n",
        "  textoFinal = ''\n",
        "  for letra in texto:\n",
        "      ascii = ord(letra)\n",
        "      ascii -= 1\n",
        "      textoFinal += chr(ascii)\n",
        "  return textoFinal\n",
        "\n",
        "def encriptarArchivo(rutaArchivo):\n",
        "  archivo = open(rutaArchivo, \"r\")\n",
        "  texto = archivo.read()\n",
        "  textoEncriptado = encriptar(texto)\n",
        "  \n",
        "\n",
        "  archivo = open(rutaArchivo, \"w\")\n",
        "  archivo.write(textoEncriptado)\n",
        "  archivo.close()\n",
        "  print('El archivo se encripto correctamente')\n",
        "\n",
        "def desencriptarArchivo(rutaArchivo):\n",
        "  archivo = open(rutaArchivo, \"r\")\n",
        "  texto = archivo.read()\n",
        "  textoDesencriptado = desencriptar(texto)\n",
        "  \n",
        "  archivo = open(rutaArchivo, \"w\")\n",
        "  archivo.write(textoDesencriptado)\n",
        "  archivo.close()\n",
        "  print('El archivo se desencripto correctamente')\n",
        "\n",
        "\n",
        "respuestaEoD = input('Presione \"E\" para encriptar o \"D\" para desencriptar:')\n",
        "rutaArchivo = input('Ingrese la ruta del archivo: ')\n",
        "\n",
        "if respuestaEoD == 'E':\n",
        "  encriptarArchivo(rutaArchivo)\n",
        "else:\n",
        "  desencriptarArchivo(rutaArchivo)"
      ],
      "metadata": {
        "colab": {
          "base_uri": "https://localhost:8080/"
        },
        "id": "VFOZaRJH4e4V",
        "outputId": "e5943849-4c4f-4f0a-84d7-1f4f9ba683a9"
      },
      "execution_count": 44,
      "outputs": [
        {
          "output_type": "stream",
          "name": "stdout",
          "text": [
            "Presione \"E\" para encriptar o \"D\" para desencriptar:D\n",
            "Ingrese la ruta del archivo: /content/texto.txt\n",
            "El archivo se desencripto correctamente\n"
          ]
        }
      ]
    }
  ]
}