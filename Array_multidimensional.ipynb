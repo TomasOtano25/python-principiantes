{
  "nbformat": 4,
  "nbformat_minor": 0,
  "metadata": {
    "colab": {
      "name": "Array multidimensional.ipynb",
      "provenance": [],
      "authorship_tag": "ABX9TyMYL6c8KpCSMF2cUHtoM5ve",
      "include_colab_link": true
    },
    "kernelspec": {
      "name": "python3",
      "display_name": "Python 3"
    },
    "language_info": {
      "name": "python"
    }
  },
  "cells": [
    {
      "cell_type": "markdown",
      "metadata": {
        "id": "view-in-github",
        "colab_type": "text"
      },
      "source": [
        "<a href=\"https://colab.research.google.com/github/TomasOtano25/python-principiantes/blob/main/Array_multidimensional.ipynb\" target=\"_parent\"><img src=\"https://colab.research.google.com/assets/colab-badge.svg\" alt=\"Open In Colab\"/></a>"
      ]
    },
    {
      "cell_type": "markdown",
      "source": [
        "# Array multidimensional"
      ],
      "metadata": {
        "id": "rvhJ6hnq6eWV"
      }
    },
    {
      "cell_type": "code",
      "execution_count": 9,
      "metadata": {
        "colab": {
          "base_uri": "https://localhost:8080/"
        },
        "id": "VsG1wbsJ6bvB",
        "outputId": "9c512c32-4622-4997-b8f3-7fd17f6f2669"
      },
      "outputs": [
        {
          "output_type": "stream",
          "name": "stdout",
          "text": [
            "[34.5, 45.6, '2022/02/02 17:20:24']\n",
            "34.5\n",
            "45.6\n",
            "46.3\n",
            "47.3\n",
            "48.3\n",
            "49.3\n",
            "[34.5, 45.6, '2022/02/02 17:20:24']\n",
            "[34.5, 46.3, '2022/02/02 17:20:34']\n",
            "[34.5, 47.3, '2022/02/02 17:20:44']\n",
            "[34.5, 48.3, '2022/02/02 17:20:54']\n",
            "[34.5, 49.3, '2022/02/02 17:20:64']\n"
          ]
        }
      ],
      "source": [
        "# latitud, longitud\n",
        "lat = 34.5\n",
        "lon = 45.6\n",
        "\n",
        "posicion = [\n",
        "    lat, lon\n",
        "]\n",
        "\n",
        "historial =[\n",
        "    [34.5,  45.6, \"2022/02/02 17:20:24\"],\n",
        "    [34.5,  46.3, \"2022/02/02 17:20:34\"],\n",
        "    [34.5,  47.3, \"2022/02/02 17:20:44\"],\n",
        "    [34.5,  48.3, \"2022/02/02 17:20:54\"],\n",
        "    [34.5,  49.3, \"2022/02/02 17:20:64\"],\n",
        "]\n",
        "\n",
        "indiceLongitud = 0\n",
        "indiceLatitud = 1\n",
        "indiceFecha = 2\n",
        "\n",
        "print(historial[0])\n",
        "print(historial[3][indiceLongitud])\n",
        "\n",
        "for coordenada in historial:\n",
        "  print(coordenada[indiceLatitud])\n",
        "\n",
        "for coordenada in historial:\n",
        "  print(coordenada)\n"
      ]
    }
  ]
}