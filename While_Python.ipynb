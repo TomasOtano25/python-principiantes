{
  "nbformat": 4,
  "nbformat_minor": 0,
  "metadata": {
    "colab": {
      "name": "While_Python.ipynb",
      "provenance": [],
      "authorship_tag": "ABX9TyOt+2ueYvVbKM8uqfmbRvht",
      "include_colab_link": true
    },
    "kernelspec": {
      "name": "python3",
      "display_name": "Python 3"
    },
    "language_info": {
      "name": "python"
    }
  },
  "cells": [
    {
      "cell_type": "markdown",
      "metadata": {
        "id": "view-in-github",
        "colab_type": "text"
      },
      "source": [
        "<a href=\"https://colab.research.google.com/github/TomasOtano25/python-principiantes/blob/main/While_Python.ipynb\" target=\"_parent\"><img src=\"https://colab.research.google.com/assets/colab-badge.svg\" alt=\"Open In Colab\"/></a>"
      ]
    },
    {
      "cell_type": "markdown",
      "source": [
        "# Bucle *While*"
      ],
      "metadata": {
        "id": "_Gk8vAIGU4fU"
      }
    },
    {
      "cell_type": "code",
      "execution_count": 5,
      "metadata": {
        "colab": {
          "base_uri": "https://localhost:8080/"
        },
        "id": "3EWcgYJJHxHu",
        "outputId": "3190073c-0fef-4e06-b051-70db2d9b75dc"
      },
      "outputs": [
        {
          "output_type": "stream",
          "name": "stdout",
          "text": [
            "El valor de contador es: 1\n",
            "El valor de contador es: 2\n",
            "El valor de contador es: 4\n",
            "El valor de contador es: 5\n"
          ]
        }
      ],
      "source": [
        "contador = 1\n",
        "while contador <= 5:\n",
        "  if contador != 3:\n",
        "    print(\"El valor de contador es: \" + str(contador))\n",
        "  contador += 1"
      ]
    },
    {
      "cell_type": "code",
      "source": [
        "contador = 0\n",
        "while contador < 5:\n",
        "  contador += 1\n",
        "  if contador == 3:\n",
        "    continue\n",
        "  print(\"El valor de contador es: \" + str(contador))\n",
        "  "
      ],
      "metadata": {
        "colab": {
          "base_uri": "https://localhost:8080/"
        },
        "id": "KKzX7GqxI8o4",
        "outputId": "aa8b07e3-7ff3-4572-f080-f2d50031d3b9"
      },
      "execution_count": 11,
      "outputs": [
        {
          "output_type": "stream",
          "name": "stdout",
          "text": [
            "El valor de contador es: 1\n",
            "El valor de contador es: 2\n",
            "El valor de contador es: 4\n",
            "El valor de contador es: 5\n"
          ]
        }
      ]
    }
  ]
}